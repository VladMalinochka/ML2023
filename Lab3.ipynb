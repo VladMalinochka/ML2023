{
 "cells": [
  {
   "cell_type": "markdown",
   "id": "1a273ef5",
   "metadata": {},
   "source": [
    "# Завдання №1 \"Створення та інспектування np-массивів\""
   ]
  },
  {
   "cell_type": "markdown",
   "id": "3d7cc956",
   "metadata": {},
   "source": [
    "## Завдання №1.1"
   ]
  },
  {
   "cell_type": "code",
   "execution_count": 1,
   "id": "17097c05",
   "metadata": {
    "scrolled": true
   },
   "outputs": [
    {
     "name": "stdout",
     "output_type": "stream",
     "text": [
      "class:  ndarray\n",
      "shape:  (3, 4)\n",
      "strides:  (32, 8)\n",
      "itemsize:  8\n",
      "aligned:  True\n",
      "contiguous:  True\n",
      "fortran:  False\n",
      "data pointer: 0x18e919f51c0\n",
      "byteorder:  little\n",
      "byteswap:  False\n",
      "type: float64\n"
     ]
    }
   ],
   "source": [
    "import numpy as np\n",
    "\n",
    "arr1_1 = np.array([[1.2, 2.3, 3.4, 4.5],\n",
    "                   [5.6, 6.7, 7.8, 8.9],\n",
    "                   [9.0, 10.1, 11.2, 12.3]])\n",
    "\n",
    "np.info(arr1_1)"
   ]
  },
  {
   "cell_type": "code",
   "execution_count": 2,
   "id": "e02b4a5b",
   "metadata": {},
   "outputs": [
    {
     "name": "stdout",
     "output_type": "stream",
     "text": [
      "[[ 1.2  2.3  3.4  4.5]\n",
      " [ 5.6  6.7  7.8  8.9]\n",
      " [ 9.  10.1 11.2 12.3]]\n"
     ]
    }
   ],
   "source": [
    "import numpy as np\n",
    "\n",
    "arr1_1 = np.array([[1.2, 2.3, 3.4, 4.5],\n",
    "                   [5.6, 6.7, 7.8, 8.9],\n",
    "                   [9.0, 10.1, 11.2, 12.3]])\n",
    "print(arr1_1)"
   ]
  },
  {
   "cell_type": "markdown",
   "id": "d90c8875",
   "metadata": {},
   "source": [
    "## Завдання №1.2"
   ]
  },
  {
   "cell_type": "code",
   "execution_count": 5,
   "id": "98cf4e2e",
   "metadata": {},
   "outputs": [
    {
     "name": "stdout",
     "output_type": "stream",
     "text": [
      "['cat' 'dog' 'mouse' 'pig' 'cow']\n"
     ]
    }
   ],
   "source": [
    "arr1_2 = np.array(['cat', 'dog', 'mouse', 'pig', 'cow'])\n",
    "\n",
    "print(arr1_2)"
   ]
  },
  {
   "cell_type": "markdown",
   "id": "07ef4680",
   "metadata": {},
   "source": [
    "## Завдання №1.3"
   ]
  },
  {
   "cell_type": "code",
   "execution_count": 6,
   "id": "bd8eafbf",
   "metadata": {},
   "outputs": [
    {
     "name": "stdout",
     "output_type": "stream",
     "text": [
      "[[1. 1. 1. 1.]\n",
      " [1. 1. 1. 1.]\n",
      " [1. 1. 1. 1.]]\n"
     ]
    }
   ],
   "source": [
    "arr1_3 = np.ones((3, 4), dtype=float)\n",
    "\n",
    "print(arr1_3)"
   ]
  },
  {
   "cell_type": "markdown",
   "id": "695e10f9",
   "metadata": {},
   "source": [
    "# Завдання №2 \"Перетворення форми та типу массивів\""
   ]
  },
  {
   "cell_type": "markdown",
   "id": "31633286",
   "metadata": {},
   "source": [
    "## Завдання №2.1"
   ]
  },
  {
   "cell_type": "code",
   "execution_count": 7,
   "id": "daf43fc1",
   "metadata": {},
   "outputs": [
    {
     "name": "stdout",
     "output_type": "stream",
     "text": [
      "[[[False False False]]\n",
      "\n",
      " [[False False False]]\n",
      "\n",
      " [[False False False]]]\n"
     ]
    }
   ],
   "source": [
    "arr2_1 = np.zeros((3, 1, 3), dtype=bool)\n",
    "\n",
    "print(arr2_1)"
   ]
  },
  {
   "cell_type": "markdown",
   "id": "3a5765eb",
   "metadata": {},
   "source": [
    "## Завдання №2.2"
   ]
  },
  {
   "cell_type": "code",
   "execution_count": 8,
   "id": "7958166c",
   "metadata": {},
   "outputs": [
    {
     "name": "stdout",
     "output_type": "stream",
     "text": [
      "[[0 0 0]\n",
      " [0 0 0]\n",
      " [0 0 0]]\n"
     ]
    }
   ],
   "source": [
    "arr2_1 = np.zeros((3, 1, 3), dtype=bool)\n",
    "arr2_2 = arr2_1.reshape(3, 3).astype(int)\n",
    "\n",
    "print(arr2_2)"
   ]
  },
  {
   "cell_type": "markdown",
   "id": "8f4963d5",
   "metadata": {},
   "source": [
    "## Завдання №2.3"
   ]
  },
  {
   "cell_type": "code",
   "execution_count": 10,
   "id": "4c58061d",
   "metadata": {},
   "outputs": [
    {
     "name": "stdout",
     "output_type": "stream",
     "text": [
      "[[10 12]\n",
      " [14 16]\n",
      " [18 20]]\n"
     ]
    }
   ],
   "source": [
    "arr2_3 = np.arange(10, 21, 2).reshape(3, 2)\n",
    "\n",
    "print(arr2_3)"
   ]
  },
  {
   "cell_type": "markdown",
   "id": "7b7af30b",
   "metadata": {},
   "source": [
    "# Завдання №3 \"Доступ до елементів масива\""
   ]
  },
  {
   "cell_type": "markdown",
   "id": "39b905b8",
   "metadata": {},
   "source": [
    "## Завдання №3.1"
   ]
  },
  {
   "cell_type": "code",
   "execution_count": 1,
   "id": "7a2a9f21",
   "metadata": {},
   "outputs": [
    {
     "name": "stdout",
     "output_type": "stream",
     "text": [
      "[[49.77763194 68.80525068 60.21102715 73.36320615 26.34207793]\n",
      " [58.99875177 67.97861416 84.64930236 34.5269781  73.32180587]\n",
      " [63.76753272 45.22699843 45.50617465 64.47608686 55.82965642]\n",
      " [62.69755179 57.82251463 44.51647927 35.78287042 34.94818066]]\n"
     ]
    }
   ],
   "source": [
    "average, vidh = 55, 15\n",
    "arr3_1 = np.random.normal(average, vidh, size=(4, 5))\n",
    "print(arr3_1)"
   ]
  },
  {
   "cell_type": "markdown",
   "id": "0c3c4a04",
   "metadata": {},
   "source": [
    "## Завдання №3.2"
   ]
  },
  {
   "cell_type": "code",
   "execution_count": 25,
   "id": "c3f8f9db",
   "metadata": {},
   "outputs": [
    {
     "name": "stdout",
     "output_type": "stream",
     "text": [
      "38.69228233094594\n"
     ]
    }
   ],
   "source": [
    "el3_2 = arr3_1[1, 2]\n",
    "print(el3_2)"
   ]
  },
  {
   "cell_type": "markdown",
   "id": "9598693d",
   "metadata": {},
   "source": [
    "## Завдання №3.3"
   ]
  },
  {
   "cell_type": "code",
   "execution_count": 26,
   "id": "8684ca9b",
   "metadata": {},
   "outputs": [
    {
     "name": "stdout",
     "output_type": "stream",
     "text": [
      "[60.30655444 46.13260844 38.69228233 63.95622571 56.65778682]\n"
     ]
    }
   ],
   "source": [
    "vect3_3 = arr3_1[1]\n",
    "print(vect3_3)"
   ]
  },
  {
   "cell_type": "markdown",
   "id": "9bc9788e",
   "metadata": {},
   "source": [
    "## Завдання №3.4"
   ]
  },
  {
   "cell_type": "code",
   "execution_count": 27,
   "id": "2e65b720",
   "metadata": {},
   "outputs": [
    {
     "name": "stdout",
     "output_type": "stream",
     "text": [
      "[52.04597924 38.69228233 36.44437493 40.35264293]\n"
     ]
    }
   ],
   "source": [
    "vect3_4 = arr3_1[:, 2]\n",
    "print(vect3_4)"
   ]
  },
  {
   "cell_type": "markdown",
   "id": "c62aa273",
   "metadata": {},
   "source": [
    "## Завдання №3.5"
   ]
  },
  {
   "cell_type": "code",
   "execution_count": 28,
   "id": "15657ae8",
   "metadata": {},
   "outputs": [
    {
     "name": "stdout",
     "output_type": "stream",
     "text": [
      "[[46.13260844 38.69228233]\n",
      " [54.52770107 36.44437493]]\n"
     ]
    }
   ],
   "source": [
    "mat3_5 = arr3_1[1:3, 1:3]\n",
    "print(mat3_5)"
   ]
  },
  {
   "cell_type": "markdown",
   "id": "8e5c8868",
   "metadata": {},
   "source": [
    "# Завдання №4 \"Матричні компоненти масива\""
   ]
  },
  {
   "cell_type": "markdown",
   "id": "6b7e1b7d",
   "metadata": {},
   "source": [
    "## Завдання №4.1"
   ]
  },
  {
   "cell_type": "code",
   "execution_count": 3,
   "id": "1521dd9e",
   "metadata": {},
   "outputs": [
    {
     "name": "stdout",
     "output_type": "stream",
     "text": [
      "[[128 159 106 124 113 190]\n",
      " [153 195 114 183 176 169]\n",
      " [111 110 183 117 120 123]\n",
      " [199 141 167 173 125 195]\n",
      " [131 170 180 104 149 152]\n",
      " [100 184 109 135 112 132]]\n"
     ]
    }
   ],
   "source": [
    "mat4_1 = np.random.randint(100, 201, size=(6, 6))\n",
    "print(mat4_1)"
   ]
  },
  {
   "cell_type": "markdown",
   "id": "13d7a3c6",
   "metadata": {},
   "source": [
    "## Завдання №4.2"
   ]
  },
  {
   "cell_type": "code",
   "execution_count": 4,
   "id": "41859203",
   "metadata": {},
   "outputs": [
    {
     "name": "stdout",
     "output_type": "stream",
     "text": [
      "[128, 195, 183, 173, 149, 132]\n"
     ]
    }
   ],
   "source": [
    "diag4_2 = [mat4_1[i][i] for i in range(len(mat4_1))]\n",
    "print(diag4_2)"
   ]
  },
  {
   "cell_type": "markdown",
   "id": "17ef8b88",
   "metadata": {},
   "source": [
    "## Завдання №4.3"
   ]
  },
  {
   "cell_type": "code",
   "execution_count": 5,
   "id": "4680e3a1",
   "metadata": {},
   "outputs": [
    {
     "name": "stdout",
     "output_type": "stream",
     "text": [
      "[[128 153 111 199 131 100]\n",
      " [159 195 110 141 170 184]\n",
      " [106 114 183 167 180 109]\n",
      " [124 183 117 173 104 135]\n",
      " [113 176 120 125 149 112]\n",
      " [190 169 123 195 152 132]]\n"
     ]
    }
   ],
   "source": [
    "trans4_3 = np.transpose(mat4_1)\n",
    "print(trans4_3)"
   ]
  },
  {
   "cell_type": "markdown",
   "id": "ff6ff9f7",
   "metadata": {},
   "source": [
    "## Завдання №4.4"
   ]
  },
  {
   "cell_type": "code",
   "execution_count": 6,
   "id": "63652757",
   "metadata": {},
   "outputs": [
    {
     "name": "stdout",
     "output_type": "stream",
     "text": [
      "[[-1.52812273e-02 -2.35990339e-04 -2.12772264e-02  1.74713769e-02\n",
      "   1.54989863e-02 -1.53295462e-03]\n",
      " [-6.58030660e-03 -6.17787268e-03 -1.19497908e-02  2.47463338e-03\n",
      "   8.54440368e-03  1.50215162e-02]\n",
      " [-2.10827691e-03 -7.36198697e-03  8.66741495e-03 -7.79245020e-05\n",
      "  -1.38969974e-05  4.51487873e-03]\n",
      " [-7.65974786e-04  3.50532745e-03  1.38666788e-02 -6.67684798e-04\n",
      "  -1.97230918e-02  7.39122628e-03]\n",
      " [ 2.10008302e-03  1.63003048e-02  3.89559315e-03 -1.01531124e-02\n",
      "   4.89799232e-03 -1.81633572e-02]\n",
      " [ 2.14916563e-02 -2.54597847e-03  8.13202909e-03 -7.32341229e-03\n",
      "  -7.62508995e-03 -8.07806696e-03]]\n"
     ]
    }
   ],
   "source": [
    "inv4_4 = np.linalg.inv(mat4_1)\n",
    "print(inv4_4)"
   ]
  },
  {
   "cell_type": "markdown",
   "id": "247f2cec",
   "metadata": {},
   "source": [
    "# Завдання №5 \"Операції над масивами\""
   ]
  },
  {
   "cell_type": "markdown",
   "id": "511e7896",
   "metadata": {},
   "source": [
    "## Завдання №5.1"
   ]
  },
  {
   "cell_type": "code",
   "execution_count": 2,
   "id": "9b99e5e0",
   "metadata": {},
   "outputs": [
    {
     "name": "stdout",
     "output_type": "stream",
     "text": [
      "Матриця:\n",
      " [[1 6 5 4]\n",
      " [8 1 4 3]\n",
      " [3 7 3 4]]\n"
     ]
    }
   ],
   "source": [
    "mat5_1 = np.random.randint(1, 10, size=(3,4))\n",
    "print(\"Матриця:\\n\", mat5_1)"
   ]
  },
  {
   "cell_type": "code",
   "execution_count": 3,
   "id": "9be2735a",
   "metadata": {},
   "outputs": [
    {
     "name": "stdout",
     "output_type": "stream",
     "text": [
      "Суми елементів рядків:\n",
      " [16 16 17]\n"
     ]
    }
   ],
   "source": [
    "sum_mat5_1 = np.sum(mat5_1, axis=1)\n",
    "print(\"Суми елементів рядків:\\n\", sum_mat5_1)"
   ]
  },
  {
   "cell_type": "markdown",
   "id": "a45fd994",
   "metadata": {},
   "source": [
    "## Завдання №5.2"
   ]
  },
  {
   "cell_type": "code",
   "execution_count": 4,
   "id": "4137ebd1",
   "metadata": {},
   "outputs": [
    {
     "name": "stdout",
     "output_type": "stream",
     "text": [
      "16\n"
     ]
    }
   ],
   "source": [
    "min_mat5_1 = np.min(sum_mat5_1)\n",
    "print(min_mat5_1)"
   ]
  },
  {
   "cell_type": "markdown",
   "id": "0ab328a0",
   "metadata": {},
   "source": [
    "## Завдання №5.3"
   ]
  },
  {
   "cell_type": "code",
   "execution_count": 5,
   "id": "66040ca7",
   "metadata": {},
   "outputs": [
    {
     "name": "stdout",
     "output_type": "stream",
     "text": [
      "[[101 106 105 104]\n",
      " [108 101 104 103]\n",
      " [103 107 103 104]]\n"
     ]
    }
   ],
   "source": [
    "mat5_3 = mat5_1 + 100\n",
    "print(mat5_3)"
   ]
  },
  {
   "cell_type": "markdown",
   "id": "b541ecfc",
   "metadata": {},
   "source": [
    "## Завдання №5.4"
   ]
  },
  {
   "cell_type": "code",
   "execution_count": 6,
   "id": "a938a4d4",
   "metadata": {},
   "outputs": [
    {
     "name": "stdout",
     "output_type": "stream",
     "text": [
      "[1218 1428 1218 1119]\n"
     ]
    }
   ],
   "source": [
    "mat5_4 = np.dot(mat5_1.T, np.diag(mat5_3))\n",
    "print(mat5_4)"
   ]
  },
  {
   "cell_type": "markdown",
   "id": "6dc34efc",
   "metadata": {},
   "source": [
    "## Завдання №5.5"
   ]
  },
  {
   "cell_type": "code",
   "execution_count": 7,
   "id": "a391a5eb",
   "metadata": {},
   "outputs": [
    {
     "name": "stdout",
     "output_type": "stream",
     "text": [
      "[[ 101  108  103 1218]\n",
      " [ 106  101  107 1428]\n",
      " [ 105  104  103 1218]\n",
      " [ 104  103  104 1119]]\n"
     ]
    }
   ],
   "source": [
    "mat5_5 = np.hstack((mat5_3.T, mat5_4.reshape(-1, 1)))\n",
    "print(mat5_5)"
   ]
  },
  {
   "cell_type": "code",
   "execution_count": 8,
   "id": "145201d1",
   "metadata": {},
   "outputs": [
    {
     "name": "stdout",
     "output_type": "stream",
     "text": [
      "Ранг матриці:  4\n"
     ]
    }
   ],
   "source": [
    "rank = np.linalg.matrix_rank(mat5_5)\n",
    "print(\"Ранг матриці: \", rank)"
   ]
  },
  {
   "cell_type": "code",
   "execution_count": null,
   "id": "7d7171f4",
   "metadata": {},
   "outputs": [],
   "source": []
  }
 ],
 "metadata": {
  "kernelspec": {
   "display_name": "Python 3 (ipykernel)",
   "language": "python",
   "name": "python3"
  },
  "language_info": {
   "codemirror_mode": {
    "name": "ipython",
    "version": 3
   },
   "file_extension": ".py",
   "mimetype": "text/x-python",
   "name": "python",
   "nbconvert_exporter": "python",
   "pygments_lexer": "ipython3",
   "version": "3.9.13"
  },
  "toc": {
   "base_numbering": 1,
   "nav_menu": {},
   "number_sections": true,
   "sideBar": true,
   "skip_h1_title": false,
   "title_cell": "Table of Contents",
   "title_sidebar": "Contents",
   "toc_cell": false,
   "toc_position": {},
   "toc_section_display": true,
   "toc_window_display": false
  },
  "varInspector": {
   "cols": {
    "lenName": 16,
    "lenType": 16,
    "lenVar": 40
   },
   "kernels_config": {
    "python": {
     "delete_cmd_postfix": "",
     "delete_cmd_prefix": "del ",
     "library": "var_list.py",
     "varRefreshCmd": "print(var_dic_list())"
    },
    "r": {
     "delete_cmd_postfix": ") ",
     "delete_cmd_prefix": "rm(",
     "library": "var_list.r",
     "varRefreshCmd": "cat(var_dic_list()) "
    }
   },
   "types_to_exclude": [
    "module",
    "function",
    "builtin_function_or_method",
    "instance",
    "_Feature"
   ],
   "window_display": false
  }
 },
 "nbformat": 4,
 "nbformat_minor": 5
}
