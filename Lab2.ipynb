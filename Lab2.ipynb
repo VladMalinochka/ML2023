{
 "cells": [
  {
   "cell_type": "markdown",
   "id": "444e115b",
   "metadata": {},
   "source": [
    "# Завдання №1"
   ]
  },
  {
   "cell_type": "markdown",
   "id": "196d5437",
   "metadata": {},
   "source": [
    "## Завдання №1 \"Конструкції Python\""
   ]
  },
  {
   "cell_type": "code",
   "execution_count": 5,
   "id": "2b0390c4",
   "metadata": {},
   "outputs": [
    {
     "name": "stdout",
     "output_type": "stream",
     "text": [
      "Тип змінної x: <class 'int'>\n",
      "Тип змінної y: <class 'float'>\n",
      "Тип змінної s: <class 'str'>\n",
      "Тип змінної a: <class 'list'>\n",
      "Тип змінної b: <class 'bool'>\n",
      "Тип змінної t: <class 'tuple'>\n"
     ]
    }
   ],
   "source": [
    "x = 55\n",
    "y = -13.42423\n",
    "s = \"Влад\"\n",
    "a = [x, y, s]\n",
    "b = True\n",
    "t = (y, \"Студент\")\n",
    "\n",
    "print(\"Тип змінної x:\", type(x))\n",
    "print(\"Тип змінної y:\", type(y))\n",
    "print(\"Тип змінної s:\", type(s))\n",
    "print(\"Тип змінної a:\", type(a))\n",
    "print(\"Тип змінної b:\", type(b))\n",
    "print(\"Тип змінної t:\", type(t))"
   ]
  },
  {
   "cell_type": "code",
   "execution_count": 4,
   "id": "4421b200",
   "metadata": {},
   "outputs": [
    {
     "name": "stdout",
     "output_type": "stream",
     "text": [
      "41.57577\n",
      "68.42423\n",
      "-4.097069254623915\n",
      "-12.121149999999998\n",
      "-738.33265\n",
      "-5.0\n",
      "4.334819045406555e-24\n"
     ]
    }
   ],
   "source": [
    "print (x+y)\n",
    "print (x-y)\n",
    "print (x/y)\n",
    "print (x%y)\n",
    "print (x*y)\n",
    "print (x//y)\n",
    "print (x**y)"
   ]
  },
  {
   "cell_type": "code",
   "execution_count": 5,
   "id": "dfa4b1a3",
   "metadata": {},
   "outputs": [
    {
     "name": "stdout",
     "output_type": "stream",
     "text": [
      "False\n",
      "True\n",
      "False\n",
      "True\n",
      "False\n",
      "True\n"
     ]
    }
   ],
   "source": [
    "print (x==y)\n",
    "print (x!=y)\n",
    "print (x<y)\n",
    "print (x>y)\n",
    "print (x<=y)\n",
    "print (x>=y)"
   ]
  },
  {
   "cell_type": "code",
   "execution_count": 6,
   "id": "bb8ac51b",
   "metadata": {
    "scrolled": true
   },
   "outputs": [
    {
     "name": "stdout",
     "output_type": "stream",
     "text": [
      "55\n",
      "(-13.42423, 'Студент')\n",
      "55\n",
      "55.0\n",
      "-13.42423\n"
     ]
    }
   ],
   "source": [
    "print (str(x))\n",
    "print (str(t))\n",
    "print (int(x))\n",
    "#print (int(s)) помилка (str у int перетворювати не можна) \n",
    "print (float(x))\n",
    "print (float(y))"
   ]
  },
  {
   "cell_type": "markdown",
   "id": "46bf147c",
   "metadata": {},
   "source": [
    "## Завдання №3 \"Введення/вивід з консолі\""
   ]
  },
  {
   "cell_type": "code",
   "execution_count": 1,
   "id": "03169992",
   "metadata": {},
   "outputs": [
    {
     "name": "stdout",
     "output_type": "stream",
     "text": [
      "Введіть число: 2.71\n"
     ]
    }
   ],
   "source": [
    "e = float(input(\"Введіть число: \"))"
   ]
  },
  {
   "cell_type": "code",
   "execution_count": 3,
   "id": "58c5b7f6",
   "metadata": {},
   "outputs": [
    {
     "name": "stdout",
     "output_type": "stream",
     "text": [
      "e в степені 5 = 146.1660310351\n"
     ]
    }
   ],
   "source": [
    "e = 2.71\n",
    "epower = e ** 5\n",
    "print(\"e в степені 5 =\", epower)"
   ]
  },
  {
   "cell_type": "code",
   "execution_count": 6,
   "id": "71d415a0",
   "metadata": {},
   "outputs": [
    {
     "name": "stdout",
     "output_type": "stream",
     "text": [
      "Влад Маліночка\n",
      "1+1 = 2\n"
     ]
    }
   ],
   "source": [
    "name = \"Влад\"\n",
    "surname = \"Маліночка\"\n",
    "print (name, surname)\n",
    "print(\"1+1\", 2, sep=\" = \")"
   ]
  },
  {
   "cell_type": "markdown",
   "id": "08bbd46f",
   "metadata": {},
   "source": [
    "Кома у функції print() розділяє різні значення, які потім виводяться в окремих рядках, а аргумент sep дозволяє налаштувати роздільник між цими значеннями."
   ]
  },
  {
   "cell_type": "code",
   "execution_count": 12,
   "id": "01f4d61b",
   "metadata": {},
   "outputs": [
    {
     "name": "stdout",
     "output_type": "stream",
     "text": [
      "Влад Маліночка - це студент\n",
      "Результат буде = 12.4\n",
      "Влад - True хлопець!\n",
      "Маліночка Влад\n"
     ]
    }
   ],
   "source": [
    "print(\"{} {} - це студент\".format(name, surname))\n",
    "print(\"Результат буде = {}\".format(42 / 5 + 4))\n",
    "b = True\n",
    "print(\"{} - {} хлопець!\".format(name, b))\n",
    "print(\"{} {}\".format(surname, name))"
   ]
  },
  {
   "cell_type": "markdown",
   "id": "608c38d6",
   "metadata": {},
   "source": [
    "## Завдання №4 \"Керування обчисленнями\""
   ]
  },
  {
   "cell_type": "code",
   "execution_count": 8,
   "id": "f34870a4",
   "metadata": {},
   "outputs": [
    {
     "name": "stdout",
     "output_type": "stream",
     "text": [
      "Введи x: 4\n",
      "4.0\n",
      "4.0\n"
     ]
    }
   ],
   "source": [
    "x = float(input(\"Введи x: \"))\n",
    "\n",
    "# ----- 1 ----------\n",
    "if x > 5:\n",
    "    print (x)\n",
    "    \n",
    "# ----- 2 ----------    \n",
    "if -5 < x < 5 :\n",
    "    print (x)\n",
    "else:\n",
    "    print (x ** 2)\n",
    "    \n",
    "# ----- 3 ----------\n",
    "if x > -5:\n",
    "    print (x)\n",
    "elif -5 < x < 5:\n",
    "    print (x ** 2)\n",
    "elif x > 5:\n",
    "    print (x ** (1/2))"
   ]
  },
  {
   "cell_type": "markdown",
   "id": "39ace035",
   "metadata": {},
   "source": [
    "x = -20 (працює друге завдання з else);\n",
    "x = 31.5 (працюють всі завдання з if);\n",
    "x = 4 (працюють 2 останні завдання з if);"
   ]
  },
  {
   "cell_type": "code",
   "execution_count": 11,
   "id": "810c815a",
   "metadata": {},
   "outputs": [
    {
     "name": "stdout",
     "output_type": "stream",
     "text": [
      "Введіть вік: 130\n",
      "студент\n"
     ]
    }
   ],
   "source": [
    "age = int(input(\"Введіть вік: \"))\n",
    "\n",
    "if age >= 17:\n",
    "    print(\"студент\")\n",
    "elif age >= 6:\n",
    "    print(\"школяр\")\n",
    "else:\n",
    "    print(\"малятко\")"
   ]
  },
  {
   "cell_type": "markdown",
   "id": "1be3d6bb",
   "metadata": {},
   "source": [
    "Цей код створює цикл for по діапазону від 0 до 9; перевіряє, чи число \"i\" не є парним за допомогою операції модуля %; виводить на консоль від'ємного числа \"-i\", якщо \"i\" не є парним; виконує порожній блок коду за допомогою оператора pass, якщо \"i\" є парним; продовжує цикл до останнього елементу та повторює вказані дії."
   ]
  },
  {
   "cell_type": "code",
   "execution_count": 12,
   "id": "aa5bc741",
   "metadata": {},
   "outputs": [
    {
     "name": "stdout",
     "output_type": "stream",
     "text": [
      "1665\n"
     ]
    }
   ],
   "source": [
    "total = 0\n",
    "\n",
    "for i in range(10, 101):\n",
    "    if i % 3 == 0:\n",
    "        total += i\n",
    "\n",
    "print(total)"
   ]
  },
  {
   "cell_type": "code",
   "execution_count": 13,
   "id": "a43e47c1",
   "metadata": {},
   "outputs": [
    {
     "name": "stdout",
     "output_type": "stream",
     "text": [
      "тисни тут: 23\n",
      "було введено\n",
      "тисни тут: іф\n",
      "було введено\n",
      "тисни тут: ліфв\n",
      "було введено\n",
      "тисни тут: 0\n"
     ]
    }
   ],
   "source": [
    "while(input(\"тисни тут: \") != '0'):\n",
    "    print (\"було введено\")"
   ]
  },
  {
   "cell_type": "markdown",
   "id": "680936c5",
   "metadata": {},
   "source": [
    "Цей код запускає цикл while, який буде виконуватись, доки користувач не введе число 0 з клавіатури."
   ]
  },
  {
   "cell_type": "code",
   "execution_count": 14,
   "id": "8e11cad3",
   "metadata": {},
   "outputs": [
    {
     "name": "stdout",
     "output_type": "stream",
     "text": [
      "1665\n"
     ]
    }
   ],
   "source": [
    "i = 10\n",
    "total = 0\n",
    "\n",
    "while i <= 100:\n",
    "    if i % 3 == 0:\n",
    "        total += i\n",
    "    i += 1\n",
    "\n",
    "print(total)"
   ]
  },
  {
   "cell_type": "markdown",
   "id": "b7f016a6",
   "metadata": {},
   "source": [
    "# Завдання №2"
   ]
  },
  {
   "cell_type": "markdown",
   "id": "4c692370",
   "metadata": {},
   "source": [
    "## Завдання №1 \"Операції над списками\""
   ]
  },
  {
   "cell_type": "code",
   "execution_count": 1,
   "id": "8aa53061",
   "metadata": {},
   "outputs": [
    {
     "name": "stdout",
     "output_type": "stream",
     "text": [
      "2175693713856\n"
     ]
    }
   ],
   "source": [
    "i_am = []\n",
    "i_am.append('Влад')\n",
    "print(id(i_am))"
   ]
  },
  {
   "cell_type": "code",
   "execution_count": 2,
   "id": "7c7ec381",
   "metadata": {},
   "outputs": [
    {
     "name": "stdout",
     "output_type": "stream",
     "text": [
      "['Влад', 'Маліночка'] 2175693713856\n"
     ]
    }
   ],
   "source": [
    "i_am.append('Маліночка')\n",
    "print(i_am, id(i_am))"
   ]
  },
  {
   "cell_type": "markdown",
   "id": "1741c933",
   "metadata": {},
   "source": [
    "## Завдання №2 \"Індексація в списках\""
   ]
  },
  {
   "cell_type": "code",
   "execution_count": 3,
   "id": "145371c6",
   "metadata": {},
   "outputs": [],
   "source": [
    "my_list = [1, 2, 3, 4, 5, 6, 7, 8, 9, 10]"
   ]
  },
  {
   "cell_type": "code",
   "execution_count": 4,
   "id": "9133b096",
   "metadata": {},
   "outputs": [
    {
     "name": "stdout",
     "output_type": "stream",
     "text": [
      "[1, 2, 3, 4, 5]\n"
     ]
    }
   ],
   "source": [
    "print(my_list[:5])"
   ]
  },
  {
   "cell_type": "code",
   "execution_count": 5,
   "id": "07180b3a",
   "metadata": {},
   "outputs": [
    {
     "name": "stdout",
     "output_type": "stream",
     "text": [
      "[5, 6, 7, 8, 9, 10]\n"
     ]
    }
   ],
   "source": [
    "print(my_list[-6:])"
   ]
  },
  {
   "cell_type": "code",
   "execution_count": 6,
   "id": "69e9ce79",
   "metadata": {},
   "outputs": [
    {
     "name": "stdout",
     "output_type": "stream",
     "text": [
      "2\n",
      "4\n",
      "6\n",
      "8\n",
      "10\n"
     ]
    }
   ],
   "source": [
    "for i in my_list:\n",
    "    if i % 2 == 0:\n",
    "        print(i)"
   ]
  },
  {
   "cell_type": "markdown",
   "id": "cd9cee4b",
   "metadata": {},
   "source": [
    "## Завдання №4 \"Вкладені списки\""
   ]
  },
  {
   "cell_type": "code",
   "execution_count": 8,
   "id": "2d2fdce4",
   "metadata": {},
   "outputs": [],
   "source": [
    "list = [[1, 2, 3], [4, 5, 6], [7, 8, 9]]"
   ]
  },
  {
   "cell_type": "code",
   "execution_count": 9,
   "id": "ccd787e5",
   "metadata": {},
   "outputs": [
    {
     "name": "stdout",
     "output_type": "stream",
     "text": [
      "[[1, 2, 3], [42, 5, 6], [7, 8, 9]]\n"
     ]
    }
   ],
   "source": [
    "list[1][0] = 42\n",
    "print(list)"
   ]
  },
  {
   "cell_type": "code",
   "execution_count": 10,
   "id": "ac3ce12a",
   "metadata": {},
   "outputs": [
    {
     "name": "stdout",
     "output_type": "stream",
     "text": [
      "[[1, 2, 5], [42, 3, 6], [7, 8, 9]]\n"
     ]
    }
   ],
   "source": [
    "list[0][2], list[1][1] = list[1][1], list[0][2]\n",
    "print(list)"
   ]
  },
  {
   "cell_type": "markdown",
   "id": "b4d8610c",
   "metadata": {},
   "source": [
    "# Завдання №3 "
   ]
  },
  {
   "cell_type": "markdown",
   "id": "fffa3c3b",
   "metadata": {},
   "source": [
    "## Завдання №1"
   ]
  },
  {
   "cell_type": "code",
   "execution_count": 12,
   "id": "8d328e94",
   "metadata": {},
   "outputs": [],
   "source": [
    "file = open('my_file.txt', 'w+')\n",
    "for i in range(1, 11):\n",
    "    file.write(f\"{i}-й рядок\\n\")\n",
    "file.close()"
   ]
  },
  {
   "cell_type": "markdown",
   "id": "fcd29c9c",
   "metadata": {},
   "source": [
    "## Завдання №2"
   ]
  },
  {
   "cell_type": "code",
   "execution_count": 14,
   "id": "a2dd5e0e",
   "metadata": {},
   "outputs": [
    {
     "name": "stdout",
     "output_type": "stream",
     "text": [
      "1-й рядок\n",
      "2-й рядок\n",
      "3-й рядок\n",
      "4-й рядок\n",
      "5-й рядок\n"
     ]
    }
   ],
   "source": [
    "file = open('my_file.txt', 'r')\n",
    "for i in range(5):\n",
    "        print(file.readline().strip())\n",
    "file.close()"
   ]
  },
  {
   "cell_type": "markdown",
   "id": "e6256632",
   "metadata": {},
   "source": [
    "## Завдання №3"
   ]
  },
  {
   "cell_type": "code",
   "execution_count": 15,
   "id": "0ce07e79",
   "metadata": {},
   "outputs": [
    {
     "name": "stdout",
     "output_type": "stream",
     "text": [
      "1-й рядок\n",
      "2-й рядок\n",
      "3-й рядок\n",
      "4-й рядок\n",
      "5-й рядок\n"
     ]
    }
   ],
   "source": [
    "with open('my_file.txt', 'r') as file:\n",
    "    for i in range(5):\n",
    "        print(file.readline().strip())"
   ]
  },
  {
   "cell_type": "code",
   "execution_count": null,
   "id": "6ca25e57",
   "metadata": {},
   "outputs": [],
   "source": []
  }
 ],
 "metadata": {
  "kernelspec": {
   "display_name": "Python 3 (ipykernel)",
   "language": "python",
   "name": "python3"
  },
  "language_info": {
   "codemirror_mode": {
    "name": "ipython",
    "version": 3
   },
   "file_extension": ".py",
   "mimetype": "text/x-python",
   "name": "python",
   "nbconvert_exporter": "python",
   "pygments_lexer": "ipython3",
   "version": "3.9.13"
  },
  "toc": {
   "base_numbering": 1,
   "nav_menu": {},
   "number_sections": true,
   "sideBar": true,
   "skip_h1_title": false,
   "title_cell": "Table of Contents",
   "title_sidebar": "Contents",
   "toc_cell": false,
   "toc_position": {},
   "toc_section_display": true,
   "toc_window_display": false
  },
  "varInspector": {
   "cols": {
    "lenName": 16,
    "lenType": 16,
    "lenVar": 40
   },
   "kernels_config": {
    "python": {
     "delete_cmd_postfix": "",
     "delete_cmd_prefix": "del ",
     "library": "var_list.py",
     "varRefreshCmd": "print(var_dic_list())"
    },
    "r": {
     "delete_cmd_postfix": ") ",
     "delete_cmd_prefix": "rm(",
     "library": "var_list.r",
     "varRefreshCmd": "cat(var_dic_list()) "
    }
   },
   "types_to_exclude": [
    "module",
    "function",
    "builtin_function_or_method",
    "instance",
    "_Feature"
   ],
   "window_display": false
  }
 },
 "nbformat": 4,
 "nbformat_minor": 5
}
