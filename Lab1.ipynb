{
 "cells": [
  {
   "cell_type": "code",
   "execution_count": 1,
   "id": "c5d02011",
   "metadata": {
    "scrolled": false
   },
   "outputs": [
    {
     "name": "stdout",
     "output_type": "stream",
     "text": [
      "desktop-29ub8c9\\legion\n"
     ]
    }
   ],
   "source": [
    "import subprocess\n",
    "\n",
    "result = subprocess.run(['whoami'], stdout=subprocess.PIPE)\n",
    "username = result.stdout.decode().strip()\n",
    "\n",
    "print(username)"
   ]
  },
  {
   "cell_type": "code",
   "execution_count": 2,
   "id": "f8fb9a7c",
   "metadata": {
    "scrolled": true
   },
   "outputs": [
    {
     "name": "stdout",
     "output_type": "stream",
     "text": [
      "створено файл\n"
     ]
    }
   ],
   "source": [
    "import os\n",
    "login = \"ваш_логін\"\n",
    "filename = f\"{login}.txt\"\n",
    "\n",
    "with open(filename, \"w\") as f:\n",
    "    pass\n",
    "print(\"створено файл\")"
   ]
  },
  {
   "cell_type": "code",
   "execution_count": 3,
   "id": "019482fa",
   "metadata": {},
   "outputs": [
    {
     "name": "stdout",
     "output_type": "stream",
     "text": [
      "Маліночка - є студентом 4-1 групи ФІТ\n"
     ]
    }
   ],
   "source": [
    "surname = \"Маліночка\"\n",
    "group_number = \"4-1\"\n",
    "\n",
    "with open(filename, \"w\") as f:\n",
    "    f.write(f\"{surname} - є студентом {group_number} групи ФІТ\")\n",
    "\n",
    "with open(filename, \"r\") as f:\n",
    "    contents = f.read()\n",
    "    print(contents)"
   ]
  },
  {
   "cell_type": "code",
   "execution_count": 4,
   "id": "6dc037e1",
   "metadata": {},
   "outputs": [
    {
     "name": "stdout",
     "output_type": "stream",
     "text": [
      "Вміст робочої папки 'D:\\ML. 2023':\n",
      ".ipynb_checkpoints\n",
      "Lab1.ipynb\n",
      "ваш_логін.txt\n"
     ]
    }
   ],
   "source": [
    "dir_path = os.getcwd()\n",
    "dir_zmist = os.listdir(dir_path)\n",
    "\n",
    "print(f\"Вміст робочої папки '{dir_path}':\")\n",
    "for item in dir_zmist:\n",
    "    print(item)"
   ]
  },
  {
   "cell_type": "code",
   "execution_count": 5,
   "id": "b27edd15",
   "metadata": {},
   "outputs": [
    {
     "name": "stdout",
     "output_type": "stream",
     "text": [
      "   1:\n",
      "import subprocess\n",
      "\n",
      "result = subprocess.run(['whoami'], stdout=subprocess.PIPE)\n",
      "username = result.stdout.decode().strip()\n",
      "\n",
      "print(username)\n",
      "   2:\n",
      "import os\n",
      "login = \"ваш_логін\"\n",
      "filename = f\"{login}"
     ]
    },
    {
     "data": {
      "text/html": [
       "<b>limit_output extension: Maximum message size of 200 exceeded with 660 characters</b>"
      ]
     },
     "metadata": {},
     "output_type": "display_data"
    }
   ],
   "source": [
    "%history -n 1-5"
   ]
  },
  {
   "cell_type": "code",
   "execution_count": 6,
   "id": "a77342c3",
   "metadata": {},
   "outputs": [
    {
     "ename": "SyntaxError",
     "evalue": "invalid syntax (1058747500.py, line 5)",
     "output_type": "error",
     "traceback": [
      "\u001b[1;36m  File \u001b[1;32m\"C:\\Users\\Legion\\AppData\\Local\\Temp\\ipykernel_10312\\1058747500.py\"\u001b[1;36m, line \u001b[1;32m5\u001b[0m\n\u001b[1;33m    [![Documentation Status](https://readthedocs.org/projects/jupyter-notebook/badge/?version=latest)](https://jupyter-notebook.readthedocs.io/en/latest/?badge=latest)\u001b[0m\n\u001b[1;37m     ^\u001b[0m\n\u001b[1;31mSyntaxError\u001b[0m\u001b[1;31m:\u001b[0m invalid syntax\n"
     ]
    }
   ],
   "source": [
    "# %load https://raw.githubusercontent.com/jupyter/notebook/master/README.md\n",
    "# Jupyter Notebook\n",
    "\n",
    "![Github Actions Status](https://github.com/jupyter/notebook/workflows/Build/badge.svg)\n",
    "[![Documentation Status](https://readthedocs.org/projects/jupyter-notebook/badge/?version=latest)](https://jupyter-notebook.readthedocs.io/en/latest/?badge=latest)\n",
    "[![Binder](https://mybinder.org/badge_logo.svg)](https://mybinder.org/v2/gh/jupyter/notebook/main?urlpath=tree)\n",
    "[![codecov](https://codecov.io/gh/jupyter/notebook/branch/main/graph/badge.svg)](https://codecov.io/gh/jupyter/notebook)\n",
    "[![Gitpod](https://img.shields.io/badge/gitpod_editor-open-blue.svg)](https://gitpod.io/#https://github.com/jupyter/notebook)\n",
    "\n",
    "The Jupyter notebook is a web-based notebook environment for interactive\n",
    "computing.\n",
    "\n",
    "![Jupyter notebook example](docs/resources/running_code_med.png 'Jupyter notebook example')\n",
    "\n",
    "## Maintained versions\n",
    "\n",
    "We maintain the **two most recently released major versions of Jupyter Notebook**, Notebook v5 and Classic Notebook v6. After Notebook v7.0 is released, we will no longer maintain Notebook v5. All Notebook v5 users are strongly advised to upgrade to Classic Notebook v6 as soon as possible.\n",
    "\n",
    "The Jupyter Notebook project is currently undertaking a transition to a more modern code base built from the ground-up using JupyterLab components and extensions.\n",
    "\n",
    "There is new stream of work which was submitted and then accepted as a Jupyter Enhancement Proposal (JEP) as part of the next version (v7): https://jupyter.org/enhancement-proposals/79-notebook-v7/notebook-v7.html\n",
    "\n",
    "There is also a plan to continue maintaining Notebook v6 with bug and security fixes only, to ease the transition to Notebook v7: https://github.com/jupyter/notebook-team-compass/issues/5#issuecomment-1085254000\n",
    "\n",
    "### Notebook v7\n",
    "\n",
    "The next major version of Notebook will be based on:\n",
    "\n",
    "- JupyterLab components for the frontend\n",
    "- Jupyter Server for the Python server\n",
    "\n",
    "This represents a significant change to the `jupyter/notebook` code base.\n",
    "\n",
    "To learn more about Notebook v7: https://jupyter.org/enhancement-proposals/79-notebook-v7/notebook-v7.html\n",
    "\n",
    "### Classic Notebook v6\n",
    "\n",
    "Maintainance and security-related issues are now being addressed in the [`6.4.x`](https://github.com/jupyter/notebook/tree/6.4.x) branch.\n",
    "\n",
    "A `6.5.x` branch will be soon created and will depend on [`nbclassic`](https://github.com/jupyter/nbclassic) for the HTML/JavaScript/CSS assets.\n",
    "\n",
    "New features and continuous improvement is now focused on Notebook v7 (see section above).\n",
    "\n",
    "If you have an open pull request with a new feature or if you were planning to open one, we encourage switching over to the Jupyter Server and JupyterLab architecture, and distribute it as a server extension and / or JupyterLab prebuilt extension. That way your new feature will also be compatible with the new Notebook v7.\n",
    "\n",
    "## Jupyter notebook, the language-agnostic evolution of IPython notebook\n",
    "\n",
    "Jupyter notebook is a language-agnostic HTML notebook application for\n",
    "Project Jupyter. In 2015, Jupyter notebook was released as a part of\n",
    "The Big Split™ of the IPython codebase. IPython 3 was the last major monolithic\n",
    "release containing both language-agnostic code, such as the _IPython notebook_,\n",
    "and language specific code, such as the _IPython kernel for Python_. As\n",
    "computing spans across many languages, Project Jupyter will continue to develop the\n",
    "language-agnostic **Jupyter notebook** in this repo and with the help of the\n",
    "community develop language specific kernels which are found in their own\n",
    "discrete repos.\n",
    "\n",
    "- [The Big Split™ announcement](https://blog.jupyter.org/the-big-split-9d7b88a031a7)\n",
    "- [Jupyter Ascending blog post](https://blog.jupyter.org/jupyter-ascending-1bf5b362d97e)\n",
    "\n",
    "## Installation\n",
    "\n",
    "You can find the installation documentation for the\n",
    "[Jupyter platform, on ReadTheDocs](https://jupyter.readthedocs.io/en/latest/install.html).\n",
    "The documentation for advanced usage of Jupyter notebook can be found\n",
    "[here](https://jupyter-notebook.readthedocs.io/en/latest/).\n",
    "\n",
    "For a local installation, make sure you have\n",
    "[pip installed](https://pip.readthedocs.io/en/stable/installing/) and run:\n",
    "\n",
    "```bash\n",
    "pip install notebook\n",
    "```\n",
    "\n",
    "## Usage - Running Jupyter notebook\n",
    "\n",
    "### Running in a local installation\n",
    "\n",
    "Launch with:\n",
    "\n",
    "```bash\n",
    "jupyter notebook\n",
    "```\n",
    "\n",
    "### Running in a remote installation\n",
    "\n",
    "You need some configuration before starting Jupyter notebook remotely. See [Running a notebook server](https://jupyter-notebook.readthedocs.io/en/stable/public_server.html).\n",
    "\n",
    "## Development Installation\n",
    "\n",
    "See [`CONTRIBUTING.md`](CONTRIBUTING.md) for how to set up a local development installation.\n",
    "\n",
    "## Contributing\n",
    "\n",
    "If you are interested in contributing to the project, see [`CONTRIBUTING.md`](CONTRIBUTING.md).\n",
    "\n",
    "## Community Guidelines and Code of Conduct\n",
    "\n",
    "This repository is a Jupyter project and follows the Jupyter\n",
    "[Community Guides and Code of Conduct](https://jupyter.readthedocs.io/en/latest/community/content-community.html).\n",
    "\n",
    "## Resources\n",
    "\n",
    "- [Project Jupyter website](https://jupyter.org)\n",
    "- [Online Demo at jupyter.org/try](https://jupyter.org/try)\n",
    "- [Documentation for Jupyter notebook](https://jupyter-notebook.readthedocs.io/en/latest/)\n",
    "- [Korean Version of Installation](https://github.com/ChungJooHo/Jupyter_Kor_doc/)\n",
    "- [Documentation for Project Jupyter](https://jupyter.readthedocs.io/en/latest/index.html) \\[[PDF](https://media.readthedocs.org/pdf/jupyter/latest/jupyter.pdf)\\]\n",
    "- [Issues](https://github.com/jupyter/notebook/issues)\n",
    "- [Technical support - Jupyter Google Group](https://discourse.jupyter.org/)\n",
    "\n",
    "## About the Jupyter Development Team\n",
    "\n",
    "The Jupyter Development Team is the set of all contributors to the Jupyter project.\n",
    "This includes all of the Jupyter subprojects.\n",
    "\n",
    "The core team that coordinates development on GitHub can be found here:\n",
    "https://github.com/jupyter/.\n",
    "\n",
    "## Our Copyright Policy\n",
    "\n",
    "Jupyter uses a shared copyright model. Each contributor maintains copyright\n",
    "over their contributions to Jupyter. But, it is important to note that these\n",
    "contributions are typically only changes to the repositories. Thus, the Jupyter\n",
    "source code, in its entirety is not the copyright of any single person or\n",
    "institution. Instead, it is the collective copyright of the entire Jupyter\n",
    "Development Team. If individual contributors want to maintain a record of what\n",
    "changes/contributions they have specific copyright on, they should indicate\n",
    "their copyright in the commit message of the change, when they commit the\n",
    "change to one of the Jupyter repositories.\n",
    "\n",
    "With this in mind, the following banner should be used in any source code file\n",
    "to indicate the copyright and license terms:\n",
    "\n",
    "```\n",
    "# Copyright (c) Jupyter Development Team.\n",
    "# Distributed under the terms of the Modified BSD License.\n",
    "```\n"
   ]
  },
  {
   "cell_type": "code",
   "execution_count": 1,
   "id": "066c21e0",
   "metadata": {},
   "outputs": [
    {
     "name": "stdout",
     "output_type": "stream",
     "text": [
      "29.9 µs ± 243 ns per loop (mean ± std. dev. of 7 runs, 10000 loops each)\n"
     ]
    }
   ],
   "source": [
    "%timeit u = 10000**1000"
   ]
  },
  {
   "cell_type": "code",
   "execution_count": 3,
   "id": "8c5d41d0",
   "metadata": {},
   "outputs": [],
   "source": [
    "#!pip install jupyter_contrib_nbextensions ; jupyter contrib nbextension install --user ;  jupyter nbextension enable collapsible_headings/main"
   ]
  },
  {
   "cell_type": "code",
   "execution_count": null,
   "id": "3916790f",
   "metadata": {},
   "outputs": [],
   "source": []
  }
 ],
 "metadata": {
  "kernelspec": {
   "display_name": "Python 3 (ipykernel)",
   "language": "python",
   "name": "python3"
  },
  "language_info": {
   "codemirror_mode": {
    "name": "ipython",
    "version": 3
   },
   "file_extension": ".py",
   "mimetype": "text/x-python",
   "name": "python",
   "nbconvert_exporter": "python",
   "pygments_lexer": "ipython3",
   "version": "3.9.13"
  },
  "varInspector": {
   "cols": {
    "lenName": 16,
    "lenType": 16,
    "lenVar": 40
   },
   "kernels_config": {
    "python": {
     "delete_cmd_postfix": "",
     "delete_cmd_prefix": "del ",
     "library": "var_list.py",
     "varRefreshCmd": "print(var_dic_list())"
    },
    "r": {
     "delete_cmd_postfix": ") ",
     "delete_cmd_prefix": "rm(",
     "library": "var_list.r",
     "varRefreshCmd": "cat(var_dic_list()) "
    }
   },
   "types_to_exclude": [
    "module",
    "function",
    "builtin_function_or_method",
    "instance",
    "_Feature"
   ],
   "window_display": false
  }
 },
 "nbformat": 4,
 "nbformat_minor": 5
}
